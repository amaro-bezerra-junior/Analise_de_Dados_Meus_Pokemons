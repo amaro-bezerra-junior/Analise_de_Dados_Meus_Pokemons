{
 "cells": [
  {
   "cell_type": "markdown",
   "id": "7d9f51a9",
   "metadata": {},
   "source": [
    "## <center><font color='teal'>Meus Melhores Pokémons</font></center>\n",
    "\n",
    "## <center><font color='teal'>Contextualizando os Dados</font></center>"
   ]
  },
  {
   "attachments": {},
   "cell_type": "markdown",
   "id": "0f669c35",
   "metadata": {},
   "source": [
    "#### <font color='black'>Para realizar esse projeto, eu criei um conjunto de dados chamado \"Meus_Pokémons\".</font>\n",
    "\n",
    "#### <font color='black'>Todos os Pokémons listados na análise foram retirados da minha conta. Procurei listas apenas os melhores \"monstrinhos\" e sem repetição, ou seja, apenas um registro de cada.</font>\n",
    "\n",
    "#### <font color='black'>A base de dados possui as seguintes colunas:</font>\n",
    "\n",
    "#### <font color='black'>Pokémon: Nome do Pokémon capturado;</font>\n",
    "#### <font color='black'>Detalhe: Informa se o Pokémon capturado é Normal, Shiny, Sombrio ou Sortudo;</font>\n",
    "#### <font color='black'>À Evoluir: Informa se o Pokémon capturado terá outra evolução;</font>\n",
    "#### <font color='black'>Ataque: Informa a força de ataque do Pokémon capturado;</font>\n",
    "#### <font color='black'>Defesa: Informa a defesa do Pokémon capturado;</font>\n",
    "#### <font color='black'>Ponto de Saúde (PS): Informa a saúde do Pokémon capturado;</font>\n",
    "#### <font color='black'>Total: E a soma do Ataque, Defesa e PS do Pokémon capturado;</font>\n",
    "#### <font color='black'>Ponto de Combate (CP): Informa o ponto de combate do Pokémon capturado;</font>\n",
    "#### <font color='black'>Porcentagem: Informa o percenual do Pokémon capturado;</font>\n",
    "#### <font color='black'>Estrela: Informa a quantidade de estrelas do Pokémon capturado;</font>\n",
    "#### <font color='black'>Peso: Informa o peso do Pokémon capturado;</font>\n",
    "#### <font color='black'>Primário: Informa qual o tipo primário do Pokémon capturado;</font>\n",
    "#### <font color='black'>Secundário: Informa o tipo secundário do Pokémon capturado;</font>\n",
    "#### <font color='black'>Atura: Informa a altura do Pokémon capturado;</font>\n",
    "#### <font color='black'>Sexo: Informa o sexo do Pokémon capturado;</font>\n",
    "#### <font color='black'>Geração: Informa a geração do Pokémon capturado;</font>\n",
    "#### <font color='black'>Imagem: Informa a imagem do Pokémon capturado.</font>\n",
    "\n",
    "#### <font color='black'>Ao todo, são 384 registros!</font>"
   ]
  },
  {
   "cell_type": "markdown",
   "id": "ec2b8a35",
   "metadata": {},
   "source": [
    "## <center><font color='teal'>Consultas Realizadas para o Projeto</font><center>"
   ]
  },
  {
   "cell_type": "markdown",
   "id": "980da6c9",
   "metadata": {},
   "source": [
    "#### <font color='black'>A imagens dos Pokémons foram extraídos de: https://www.pokemon.com/br</font>\n",
    "\n",
    "#### <font color='black'>A documentação da API utilizada para realização de análise está disponível em: https://pogoapi.net/documentation/</font>"
   ]
  },
  {
   "cell_type": "code",
   "execution_count": 2,
   "id": "65281942",
   "metadata": {},
   "outputs": [],
   "source": [
    "import pandas as pd\n",
    "import requests\n",
    "import matplotlib.pyplot as plt\n",
    "import seaborn as sns"
   ]
  },
  {
   "cell_type": "code",
   "execution_count": 3,
   "id": "f15d2a61",
   "metadata": {},
   "outputs": [],
   "source": [
    "# Carregando a planilha\n",
    "\n",
    "caminho_do_arquivo = 'Meus_Pokémons.xlsx'\n",
    "pokemons_df = pd.read_excel(caminho_do_arquivo)"
   ]
  },
  {
   "cell_type": "code",
   "execution_count": 4,
   "id": "a10f6e50",
   "metadata": {},
   "outputs": [
    {
     "data": {
      "text/html": [
       "<div>\n",
       "<style scoped>\n",
       "    .dataframe tbody tr th:only-of-type {\n",
       "        vertical-align: middle;\n",
       "    }\n",
       "\n",
       "    .dataframe tbody tr th {\n",
       "        vertical-align: top;\n",
       "    }\n",
       "\n",
       "    .dataframe thead th {\n",
       "        text-align: right;\n",
       "    }\n",
       "</style>\n",
       "<table border=\"1\" class=\"dataframe\">\n",
       "  <thead>\n",
       "    <tr style=\"text-align: right;\">\n",
       "      <th></th>\n",
       "      <th>Pokemon</th>\n",
       "      <th>Detalhe</th>\n",
       "      <th>À Evoluir</th>\n",
       "      <th>Ataque</th>\n",
       "      <th>Defesa</th>\n",
       "      <th>Ponto de Saúde (PS)</th>\n",
       "      <th>Total</th>\n",
       "      <th>Ponto de Combate (CP)</th>\n",
       "      <th>Porcentagem</th>\n",
       "      <th>Estrelas</th>\n",
       "      <th>Peso</th>\n",
       "      <th>Primário</th>\n",
       "      <th>Secundário</th>\n",
       "      <th>Altura</th>\n",
       "      <th>Sexo</th>\n",
       "      <th>Geração</th>\n",
       "      <th>Imagem</th>\n",
       "    </tr>\n",
       "  </thead>\n",
       "  <tbody>\n",
       "    <tr>\n",
       "      <th>0</th>\n",
       "      <td>Blissey</td>\n",
       "      <td>Normal</td>\n",
       "      <td>Não</td>\n",
       "      <td>15</td>\n",
       "      <td>15</td>\n",
       "      <td>15</td>\n",
       "      <td>45</td>\n",
       "      <td>2757</td>\n",
       "      <td>100.0</td>\n",
       "      <td>3</td>\n",
       "      <td>53.73</td>\n",
       "      <td>Normal</td>\n",
       "      <td>Normal</td>\n",
       "      <td>1.69</td>\n",
       "      <td>Feminino</td>\n",
       "      <td>2</td>\n",
       "      <td>data:image/jpeg;base64,/9j/4AAQSkZJRgABAQAAAQA...</td>\n",
       "    </tr>\n",
       "    <tr>\n",
       "      <th>1</th>\n",
       "      <td>Exploud</td>\n",
       "      <td>Normal</td>\n",
       "      <td>Não</td>\n",
       "      <td>15</td>\n",
       "      <td>15</td>\n",
       "      <td>15</td>\n",
       "      <td>45</td>\n",
       "      <td>2347</td>\n",
       "      <td>100.0</td>\n",
       "      <td>3</td>\n",
       "      <td>84.00</td>\n",
       "      <td>Normal</td>\n",
       "      <td>Normal</td>\n",
       "      <td>1.50</td>\n",
       "      <td>Feminino</td>\n",
       "      <td>3</td>\n",
       "      <td>data:image/jpeg;base64,/9j/4AAQSkZJRgABAQAAAQA...</td>\n",
       "    </tr>\n",
       "    <tr>\n",
       "      <th>2</th>\n",
       "      <td>Lopunny</td>\n",
       "      <td>Normal</td>\n",
       "      <td>Não</td>\n",
       "      <td>15</td>\n",
       "      <td>15</td>\n",
       "      <td>15</td>\n",
       "      <td>45</td>\n",
       "      <td>2059</td>\n",
       "      <td>100.0</td>\n",
       "      <td>3</td>\n",
       "      <td>33.30</td>\n",
       "      <td>Normal</td>\n",
       "      <td>Normal</td>\n",
       "      <td>1.20</td>\n",
       "      <td>Feminino</td>\n",
       "      <td>4</td>\n",
       "      <td>data:image/jpeg;base64,/9j/4AAQSkZJRgABAQAAAQA...</td>\n",
       "    </tr>\n",
       "    <tr>\n",
       "      <th>3</th>\n",
       "      <td>Perrserker</td>\n",
       "      <td>Normal</td>\n",
       "      <td>Não</td>\n",
       "      <td>15</td>\n",
       "      <td>15</td>\n",
       "      <td>15</td>\n",
       "      <td>45</td>\n",
       "      <td>2401</td>\n",
       "      <td>100.0</td>\n",
       "      <td>3</td>\n",
       "      <td>28.00</td>\n",
       "      <td>Aço</td>\n",
       "      <td>Aço</td>\n",
       "      <td>0.80</td>\n",
       "      <td>Feminino</td>\n",
       "      <td>8</td>\n",
       "      <td>data:image/jpeg;base64,/9j/4AAQSkZJRgABAQAAAQA...</td>\n",
       "    </tr>\n",
       "    <tr>\n",
       "      <th>4</th>\n",
       "      <td>Porygon-Z</td>\n",
       "      <td>Normal</td>\n",
       "      <td>Não</td>\n",
       "      <td>15</td>\n",
       "      <td>15</td>\n",
       "      <td>15</td>\n",
       "      <td>45</td>\n",
       "      <td>3266</td>\n",
       "      <td>100.0</td>\n",
       "      <td>3</td>\n",
       "      <td>36.50</td>\n",
       "      <td>Normal</td>\n",
       "      <td>Normal</td>\n",
       "      <td>0.80</td>\n",
       "      <td>Indefinido</td>\n",
       "      <td>1</td>\n",
       "      <td>data:image/jpeg;base64,/9j/4AAQSkZJRgABAQAAAQA...</td>\n",
       "    </tr>\n",
       "  </tbody>\n",
       "</table>\n",
       "</div>"
      ],
      "text/plain": [
       "      Pokemon Detalhe À Evoluir  Ataque  Defesa  Ponto de Saúde (PS)  Total  \\\n",
       "0     Blissey  Normal       Não      15      15                   15     45   \n",
       "1     Exploud  Normal       Não      15      15                   15     45   \n",
       "2     Lopunny  Normal       Não      15      15                   15     45   \n",
       "3  Perrserker  Normal       Não      15      15                   15     45   \n",
       "4   Porygon-Z  Normal       Não      15      15                   15     45   \n",
       "\n",
       "   Ponto de Combate (CP)  Porcentagem  Estrelas   Peso Primário Secundário  \\\n",
       "0                   2757        100.0         3  53.73   Normal     Normal   \n",
       "1                   2347        100.0         3  84.00   Normal     Normal   \n",
       "2                   2059        100.0         3  33.30   Normal     Normal   \n",
       "3                   2401        100.0         3  28.00      Aço        Aço   \n",
       "4                   3266        100.0         3  36.50   Normal     Normal   \n",
       "\n",
       "   Altura        Sexo  Geração  \\\n",
       "0    1.69    Feminino        2   \n",
       "1    1.50    Feminino        3   \n",
       "2    1.20    Feminino        4   \n",
       "3    0.80    Feminino        8   \n",
       "4    0.80  Indefinido        1   \n",
       "\n",
       "                                              Imagem  \n",
       "0  data:image/jpeg;base64,/9j/4AAQSkZJRgABAQAAAQA...  \n",
       "1  data:image/jpeg;base64,/9j/4AAQSkZJRgABAQAAAQA...  \n",
       "2  data:image/jpeg;base64,/9j/4AAQSkZJRgABAQAAAQA...  \n",
       "3  data:image/jpeg;base64,/9j/4AAQSkZJRgABAQAAAQA...  \n",
       "4  data:image/jpeg;base64,/9j/4AAQSkZJRgABAQAAAQA...  "
      ]
     },
     "execution_count": 4,
     "metadata": {},
     "output_type": "execute_result"
    }
   ],
   "source": [
    "# Visualizando as primeiras linhas da planilha\n",
    "\n",
    "pokemons_df.head()"
   ]
  },
  {
   "cell_type": "code",
   "execution_count": 5,
   "id": "1bab21c0",
   "metadata": {},
   "outputs": [
    {
     "name": "stdout",
     "output_type": "stream",
     "text": [
      "Quantidade de linhas e colunas da planilha:\n",
      "\n",
      "(384, 17)\n"
     ]
    }
   ],
   "source": [
    "# Verificando a quantidade de linhas e colunas da planilha\n",
    "\n",
    "print(\"Quantidade de linhas e colunas da planilha:\")\n",
    "print()\n",
    "print(pokemons_df.shape)"
   ]
  },
  {
   "cell_type": "code",
   "execution_count": 6,
   "id": "3200db2d",
   "metadata": {},
   "outputs": [
    {
     "name": "stdout",
     "output_type": "stream",
     "text": [
      "Colunas na planilha:\n",
      "\n",
      "Index(['Pokemon', 'Detalhe', 'À Evoluir', 'Ataque', 'Defesa',\n",
      "       'Ponto de Saúde (PS)', 'Total', 'Ponto de Combate (CP)', 'Porcentagem',\n",
      "       'Estrelas', 'Peso', 'Primário', 'Secundário', 'Altura', 'Sexo',\n",
      "       'Geração', 'Imagem'],\n",
      "      dtype='object')\n"
     ]
    }
   ],
   "source": [
    "# Verificando nome das colunas da planilha\n",
    "\n",
    "print(\"Colunas na planilha:\")\n",
    "print()\n",
    "print(pokemons_df.columns)"
   ]
  },
  {
   "cell_type": "code",
   "execution_count": 7,
   "id": "a42ab25c",
   "metadata": {},
   "outputs": [
    {
     "data": {
      "text/html": [
       "<div>\n",
       "<style scoped>\n",
       "    .dataframe tbody tr th:only-of-type {\n",
       "        vertical-align: middle;\n",
       "    }\n",
       "\n",
       "    .dataframe tbody tr th {\n",
       "        vertical-align: top;\n",
       "    }\n",
       "\n",
       "    .dataframe thead th {\n",
       "        text-align: right;\n",
       "    }\n",
       "</style>\n",
       "<table border=\"1\" class=\"dataframe\">\n",
       "  <thead>\n",
       "    <tr style=\"text-align: right;\">\n",
       "      <th></th>\n",
       "      <th>form</th>\n",
       "      <th>max_cp</th>\n",
       "      <th>pokemon_id</th>\n",
       "      <th>pokemon_name</th>\n",
       "    </tr>\n",
       "  </thead>\n",
       "  <tbody>\n",
       "    <tr>\n",
       "      <th>0</th>\n",
       "      <td>Fall_2019</td>\n",
       "      <td>1275</td>\n",
       "      <td>1</td>\n",
       "      <td>Bulbasaur</td>\n",
       "    </tr>\n",
       "    <tr>\n",
       "      <th>1</th>\n",
       "      <td>Normal</td>\n",
       "      <td>1275</td>\n",
       "      <td>1</td>\n",
       "      <td>Bulbasaur</td>\n",
       "    </tr>\n",
       "    <tr>\n",
       "      <th>2</th>\n",
       "      <td>Normal</td>\n",
       "      <td>1943</td>\n",
       "      <td>2</td>\n",
       "      <td>Ivysaur</td>\n",
       "    </tr>\n",
       "    <tr>\n",
       "      <th>3</th>\n",
       "      <td>Copy_2019</td>\n",
       "      <td>3112</td>\n",
       "      <td>3</td>\n",
       "      <td>Venusaur</td>\n",
       "    </tr>\n",
       "    <tr>\n",
       "      <th>4</th>\n",
       "      <td>Normal</td>\n",
       "      <td>3112</td>\n",
       "      <td>3</td>\n",
       "      <td>Venusaur</td>\n",
       "    </tr>\n",
       "  </tbody>\n",
       "</table>\n",
       "</div>"
      ],
      "text/plain": [
       "        form  max_cp  pokemon_id pokemon_name\n",
       "0  Fall_2019    1275           1    Bulbasaur\n",
       "1     Normal    1275           1    Bulbasaur\n",
       "2     Normal    1943           2      Ivysaur\n",
       "3  Copy_2019    3112           3     Venusaur\n",
       "4     Normal    3112           3     Venusaur"
      ]
     },
     "execution_count": 7,
     "metadata": {},
     "output_type": "execute_result"
    }
   ],
   "source": [
    "# Função para obter dados do CP Máximo da API\n",
    "\n",
    "def get_max_cp_data():\n",
    "    \n",
    "    url = \"https://pogoapi.net/api/v1/pokemon_max_cp.json\"\n",
    "    response = requests.get(url)\n",
    "    if response.status_code == 200:\n",
    "        return response.json()\n",
    "    else:\n",
    "        raise Exception(f\"Erro ao acessar a API: {response.status_code}\")\n",
    "        \n",
    "# Obtendo dados de CP Máximo\n",
    "\n",
    "max_cp_data = get_max_cp_data()\n",
    "\n",
    "# Convertendo os dados de CP Máximo em um DataFrame\n",
    "\n",
    "max_cp_df = pd.DataFrame(max_cp_data)\n",
    "\n",
    "# Visualizando as primeiras linhas do DataFrame para verificar os dados\n",
    "\n",
    "max_cp_df.head()"
   ]
  },
  {
   "cell_type": "code",
   "execution_count": 8,
   "id": "26a3f5c5",
   "metadata": {},
   "outputs": [
    {
     "name": "stdout",
     "output_type": "stream",
     "text": [
      "Quantidade de linhas e colunas da API:\n",
      "\n",
      "(1328, 4)\n"
     ]
    }
   ],
   "source": [
    "# Verificando a quantidade de linhas e colunas da API\n",
    "\n",
    "print(\"Quantidade de linhas e colunas da API:\")\n",
    "print()\n",
    "print(max_cp_df.shape)"
   ]
  },
  {
   "cell_type": "code",
   "execution_count": 9,
   "id": "c5321cbd",
   "metadata": {},
   "outputs": [
    {
     "name": "stdout",
     "output_type": "stream",
     "text": [
      "Colunas no DataFrame:\n",
      "\n",
      "Index(['form', 'max_cp', 'pokemon_id', 'pokemon_name'], dtype='object')\n"
     ]
    }
   ],
   "source": [
    "# Verificando nomes das colunas do Dataframe da API\n",
    "\n",
    "print(\"Colunas no DataFrame:\")\n",
    "print()\n",
    "print(max_cp_df.columns)"
   ]
  },
  {
   "cell_type": "code",
   "execution_count": 10,
   "id": "19d4500e",
   "metadata": {},
   "outputs": [],
   "source": [
    "# Realizando a integração dos dados da planilha com o DataFrame da API\n",
    "# Renomeando colunas para facilitar a combinação\n",
    "\n",
    "max_cp_df.rename(columns = {'pokemon_name': 'Pokemon', 'max_cp': 'CP_Máximo'}, inplace = True)"
   ]
  },
  {
   "cell_type": "code",
   "execution_count": 11,
   "id": "81579634",
   "metadata": {},
   "outputs": [
    {
     "name": "stdout",
     "output_type": "stream",
     "text": [
      "      Pokemon Detalhe À Evoluir  Ataque  Defesa  Ponto de Saúde (PS)  Total  \\\n",
      "0     Blissey  Normal       Não      15      15                   15     45   \n",
      "1     Exploud  Normal       Não      15      15                   15     45   \n",
      "2     Lopunny  Normal       Não      15      15                   15     45   \n",
      "3  Perrserker  Normal       Não      15      15                   15     45   \n",
      "4   Porygon-Z  Normal       Não      15      15                   15     45   \n",
      "\n",
      "   Ponto de Combate (CP)  Porcentagem  Estrelas   Peso Primário Secundário  \\\n",
      "0                   2757        100.0         3  53.73   Normal     Normal   \n",
      "1                   2347        100.0         3  84.00   Normal     Normal   \n",
      "2                   2059        100.0         3  33.30   Normal     Normal   \n",
      "3                   2401        100.0         3  28.00      Aço        Aço   \n",
      "4                   3266        100.0         3  36.50   Normal     Normal   \n",
      "\n",
      "   Altura        Sexo  Geração  \\\n",
      "0    1.69    Feminino        2   \n",
      "1    1.50    Feminino        3   \n",
      "2    1.20    Feminino        4   \n",
      "3    0.80    Feminino        8   \n",
      "4    0.80  Indefinido        1   \n",
      "\n",
      "                                              Imagem  CP_Máximo  \n",
      "0  data:image/jpeg;base64,/9j/4AAQSkZJRgABAQAAAQA...     3155.0  \n",
      "1  data:image/jpeg;base64,/9j/4AAQSkZJRgABAQAAAQA...     2685.0  \n",
      "2  data:image/jpeg;base64,/9j/4AAQSkZJRgABAQAAAQA...     2356.0  \n",
      "3  data:image/jpeg;base64,/9j/4AAQSkZJRgABAQAAAQA...     2729.0  \n",
      "4  data:image/jpeg;base64,/9j/4AAQSkZJRgABAQAAAQA...     3737.0  \n"
     ]
    }
   ],
   "source": [
    "# Integrando os dados de CP Máximo na planilha\n",
    "\n",
    "pokemons_df = pd.merge(pokemons_df, max_cp_df[['Pokemon', 'CP_Máximo']], on = 'Pokemon', how = 'left')\n",
    "\n",
    "# Visualizando as primeiras linhas para verificar a integração\n",
    "\n",
    "print(pokemons_df.head())"
   ]
  },
  {
   "cell_type": "code",
   "execution_count": 12,
   "id": "91bba580",
   "metadata": {},
   "outputs": [
    {
     "name": "stdout",
     "output_type": "stream",
     "text": [
      "Quantidade de linhas e colunas da planilha:\n",
      "\n",
      "(507, 18)\n"
     ]
    }
   ],
   "source": [
    "# Verificando a quantidade de linhas e colunas da planilha\n",
    "\n",
    "print(\"Quantidade de linhas e colunas da planilha:\")\n",
    "print()\n",
    "print(pokemons_df.shape)"
   ]
  },
  {
   "cell_type": "code",
   "execution_count": 13,
   "id": "7567f15c",
   "metadata": {},
   "outputs": [],
   "source": [
    "# Verificando duplicatas\n",
    "\n",
    "duplicatas = pokemons_df['Pokemon'].value_counts()"
   ]
  },
  {
   "cell_type": "code",
   "execution_count": 14,
   "id": "c6c15a2f",
   "metadata": {},
   "outputs": [],
   "source": [
    "# Filtrando apenas os pokémons que aparecem mais de uma vez\n",
    "\n",
    "duplicatas = duplicatas[duplicatas > 1]"
   ]
  },
  {
   "cell_type": "code",
   "execution_count": 15,
   "id": "93e8627e",
   "metadata": {},
   "outputs": [
    {
     "name": "stdout",
     "output_type": "stream",
     "text": [
      "Pokémons duplicados e a quantidade de vezes que aparecem:\n",
      "\n",
      "Pokemon\n",
      "Pikachu       36\n",
      "Genesect       5\n",
      "Castform       4\n",
      "Darmanitan     4\n",
      "Deoxys         4\n",
      "              ..\n",
      "Vulpix         2\n",
      "Sandslash      2\n",
      "Raticate       2\n",
      "Thundurus      2\n",
      "Suicune        2\n",
      "Name: count, Length: 69, dtype: int64\n"
     ]
    }
   ],
   "source": [
    "# Exibindo os pokémons duplicados e a quantidade de vezes que eles aparecem\n",
    "\n",
    "print(\"Pokémons duplicados e a quantidade de vezes que aparecem:\")\n",
    "print()\n",
    "print(duplicatas)"
   ]
  },
  {
   "cell_type": "code",
   "execution_count": 16,
   "id": "e951a8de",
   "metadata": {},
   "outputs": [
    {
     "name": "stdout",
     "output_type": "stream",
     "text": [
      "\n",
      "       Pokemon  Quantidade\n",
      "0      Pikachu          36\n",
      "1     Genesect           5\n",
      "2     Castform           4\n",
      "3   Darmanitan           4\n",
      "4       Deoxys           4\n",
      "..         ...         ...\n",
      "64      Vulpix           2\n",
      "65   Sandslash           2\n",
      "66    Raticate           2\n",
      "67   Thundurus           2\n",
      "68     Suicune           2\n",
      "\n",
      "[69 rows x 2 columns]\n"
     ]
    }
   ],
   "source": [
    "# Convertendo para DataFrame para visualização mais clara\n",
    "\n",
    "duplicatas_df = duplicatas.reset_index()\n",
    "duplicatas_df.columns = ['Pokemon', 'Quantidade']\n",
    "print()\n",
    "print(duplicatas_df)"
   ]
  },
  {
   "cell_type": "code",
   "execution_count": 17,
   "id": "2cc03b4a",
   "metadata": {},
   "outputs": [],
   "source": [
    "# Removendo duplicatas, mantendo apenas o primeiro registro de cada Pokémon\n",
    "\n",
    "pokemons_df_sem_duplicatas = pokemons_df.drop_duplicates(subset='Pokemon', keep = 'first')"
   ]
  },
  {
   "cell_type": "code",
   "execution_count": 18,
   "id": "d943bc16",
   "metadata": {},
   "outputs": [
    {
     "name": "stdout",
     "output_type": "stream",
     "text": [
      "Quantidade de linhas e colunas da planilha:\n",
      "\n",
      "(384, 18)\n"
     ]
    }
   ],
   "source": [
    "# Verificando a quantidade de linhas e colunas da planilha após a exclusão dos pokémons repetidos\n",
    "\n",
    "print(\"Quantidade de linhas e colunas da planilha:\")\n",
    "print()\n",
    "print(pokemons_df_sem_duplicatas.shape)"
   ]
  },
  {
   "cell_type": "code",
   "execution_count": 19,
   "id": "15e24817",
   "metadata": {},
   "outputs": [
    {
     "name": "stdout",
     "output_type": "stream",
     "text": [
      "Dados nulos por coluna:\n",
      "\n",
      "Pokemon                  0\n",
      "Detalhe                  0\n",
      "À Evoluir                0\n",
      "Ataque                   0\n",
      "Defesa                   0\n",
      "Ponto de Saúde (PS)      0\n",
      "Total                    0\n",
      "Ponto de Combate (CP)    0\n",
      "Porcentagem              0\n",
      "Estrelas                 0\n",
      "Peso                     0\n",
      "Primário                 0\n",
      "Secundário               0\n",
      "Altura                   0\n",
      "Sexo                     0\n",
      "Geração                  0\n",
      "Imagem                   0\n",
      "CP_Máximo                3\n",
      "dtype: int64\n"
     ]
    }
   ],
   "source": [
    "# Verificando a quantidade de valores nulos por coluna\n",
    "\n",
    "print(\"Dados nulos por coluna:\")\n",
    "print()\n",
    "print(pokemons_df_sem_duplicatas.isnull().sum())"
   ]
  },
  {
   "cell_type": "code",
   "execution_count": 20,
   "id": "47490941",
   "metadata": {},
   "outputs": [],
   "source": [
    "# Verificando a quantidade de valores nulos por linha\n",
    "\n",
    "valores_nulos_linhas = pokemons_df_sem_duplicatas.isnull().sum(axis=1)"
   ]
  },
  {
   "cell_type": "code",
   "execution_count": 21,
   "id": "b82026c4",
   "metadata": {},
   "outputs": [
    {
     "name": "stdout",
     "output_type": "stream",
     "text": [
      "Quantidade de linhas com pelo menos um valor nulo: 3\n"
     ]
    }
   ],
   "source": [
    "# Contando a quantidade de linhas que possuem pelo menos um valor nulo\n",
    "\n",
    "linhas_com_valores_nulos = valores_nulos_linhas[valores_nulos_linhas > 0].shape[0]\n",
    "\n",
    "print(f\"Quantidade de linhas com pelo menos um valor nulo: {linhas_com_valores_nulos}\")"
   ]
  },
  {
   "cell_type": "code",
   "execution_count": 22,
   "id": "64828ff1",
   "metadata": {},
   "outputs": [
    {
     "name": "stdout",
     "output_type": "stream",
     "text": [
      "Quantidade total de valores nulos: 3\n"
     ]
    }
   ],
   "source": [
    "# Verificando a quantidade total de valores nulos\n",
    "\n",
    "total_valores_nulos = pokemons_df_sem_duplicatas.isnull().sum().sum()\n",
    "\n",
    "print(f\"Quantidade total de valores nulos: {total_valores_nulos}\")"
   ]
  },
  {
   "cell_type": "code",
   "execution_count": 23,
   "id": "6877eeb6",
   "metadata": {},
   "outputs": [
    {
     "name": "stdout",
     "output_type": "stream",
     "text": [
      "Pokémons sem informações de CP Máximo:\n",
      "      Pokemon  Ponto de Combate (CP)  CP_Máximo\n",
      "40   Farfetch                    946        NaN\n",
      "52   Sirfetch                   1691        NaN\n",
      "160   Nidoran                    335        NaN\n"
     ]
    }
   ],
   "source": [
    "# Verificando quais Pokémons têm valores nulos na coluna CP_Máximo\n",
    "\n",
    "pokemons_com_cp_maximo_nulo = pokemons_df_sem_duplicatas[pokemons_df_sem_duplicatas['CP_Máximo'].isnull()]\n",
    "\n",
    "print(\"Pokémons sem informações de CP Máximo:\")\n",
    "print(pokemons_com_cp_maximo_nulo[['Pokemon', 'Ponto de Combate (CP)', 'CP_Máximo']])"
   ]
  },
  {
   "cell_type": "code",
   "execution_count": 24,
   "id": "7b95c84d",
   "metadata": {},
   "outputs": [],
   "source": [
    "# Renomeando o DataFrame\n",
    "\n",
    "pokemons_df_atualizado = pokemons_df_sem_duplicatas.copy()"
   ]
  },
  {
   "cell_type": "code",
   "execution_count": 25,
   "id": "61792c51",
   "metadata": {},
   "outputs": [],
   "source": [
    "# Atualizando CP Máximo manualmente\n",
    "\n",
    "pokemons_df_atualizado.loc[pokemons_df_atualizado['Pokemon'] == 'Farfetch', 'CP_Máximo'] = 1414\n",
    "pokemons_df_atualizado.loc[pokemons_df_atualizado['Pokemon'] == 'Sirfetch', 'CP_Máximo'] = 3415\n",
    "pokemons_df_atualizado.loc[pokemons_df_atualizado['Pokemon'] == 'Nidoran', 'CP_Máximo'] = 933"
   ]
  },
  {
   "cell_type": "code",
   "execution_count": 26,
   "id": "ecb06ab0",
   "metadata": {},
   "outputs": [
    {
     "name": "stdout",
     "output_type": "stream",
     "text": [
      "Dados nulos por coluna após atualização manual:\n",
      "\n",
      "Pokemon                  0\n",
      "Detalhe                  0\n",
      "À Evoluir                0\n",
      "Ataque                   0\n",
      "Defesa                   0\n",
      "Ponto de Saúde (PS)      0\n",
      "Total                    0\n",
      "Ponto de Combate (CP)    0\n",
      "Porcentagem              0\n",
      "Estrelas                 0\n",
      "Peso                     0\n",
      "Primário                 0\n",
      "Secundário               0\n",
      "Altura                   0\n",
      "Sexo                     0\n",
      "Geração                  0\n",
      "Imagem                   0\n",
      "CP_Máximo                0\n",
      "dtype: int64\n"
     ]
    }
   ],
   "source": [
    "# Verificando se ainda há valores nulos\n",
    "\n",
    "print(\"Dados nulos por coluna após atualização manual:\")\n",
    "print()\n",
    "print(pokemons_df_atualizado.isnull().sum())"
   ]
  },
  {
   "cell_type": "code",
   "execution_count": 27,
   "id": "5b7445fd",
   "metadata": {},
   "outputs": [
    {
     "name": "stdout",
     "output_type": "stream",
     "text": [
      "Quantidade total de valores nulos após atualização: 0\n"
     ]
    }
   ],
   "source": [
    "# Verificando a quantidade total de valores nulos após atualização\n",
    "\n",
    "total_valores_nulos_atualizado = pokemons_df_atualizado.isnull().sum().sum()\n",
    "\n",
    "print(f\"Quantidade total de valores nulos após atualização: {total_valores_nulos_atualizado}\")"
   ]
  },
  {
   "cell_type": "code",
   "execution_count": 28,
   "id": "3e1047a7",
   "metadata": {},
   "outputs": [],
   "source": [
    "# Calculando a porcentagem do CP atual em relação ao CP Máximo\n",
    "\n",
    "pokemons_df_atualizado['Porcentagem_CP'] = (pokemons_df_atualizado['Ponto de Combate (CP)'] / pokemons_df_atualizado['CP_Máximo']) * 100\n",
    "\n",
    "# Ordenando o DataFrame pela porcentagem do CP atual em relação ao CP máximo\n",
    "\n",
    "pokemons_df_atualizado = pokemons_df_atualizado.sort_values(by='Porcentagem_CP', ascending=False)"
   ]
  },
  {
   "cell_type": "code",
   "execution_count": 29,
   "id": "3ca9bc0f",
   "metadata": {},
   "outputs": [
    {
     "name": "stdout",
     "output_type": "stream",
     "text": [
      "        Pokemon Detalhe À Evoluir  Ataque  Defesa  Ponto de Saúde (PS)  Total  \\\n",
      "3    Perrserker  Normal       Não      15      15                   15     45   \n",
      "1       Exploud  Normal       Não      15      15                   15     45   \n",
      "4     Porygon-Z  Normal       Não      15      15                   15     45   \n",
      "2       Lopunny  Normal       Não      15      15                   15     45   \n",
      "0       Blissey  Normal       Não      15      15                   15     45   \n",
      "70    Dragonite  Normal       Não      15      14                   12     41   \n",
      "190    Gyarados  Normal       Não      13      10                   15     38   \n",
      "187   Exeggutor  Normal       Não      12      12                   14     38   \n",
      "291    Alakazam  Normal       Não      15      15                    6     36   \n",
      "354     Weavile  Normal       Não      10      12                   11     33   \n",
      "\n",
      "     Ponto de Combate (CP)  Porcentagem  Estrelas    Peso  Primário  \\\n",
      "3                     2401   100.000000         3   28.00       Aço   \n",
      "1                     2347   100.000000         3   84.00    Normal   \n",
      "4                     3266   100.000000         3   36.50    Normal   \n",
      "2                     2059   100.000000         3   33.30    Normal   \n",
      "0                     2757   100.000000         3   53.73    Normal   \n",
      "70                    3758    91.111111         3  266.78    Dragão   \n",
      "190                   3322    84.444444         3  235.00      Água   \n",
      "187                   2944    84.444444         3  120.00     Grama   \n",
      "291                   2971    80.000000         2   50.00  Psíquico   \n",
      "354                   2891    73.333333         2   34.00    Escuro   \n",
      "\n",
      "    Secundário  Altura        Sexo  Geração  \\\n",
      "3          Aço    0.80    Feminino        8   \n",
      "1       Normal    1.50    Feminino        3   \n",
      "4       Normal    0.80  Indefinido        1   \n",
      "2       Normal    1.20    Feminino        4   \n",
      "0       Normal    1.69    Feminino        2   \n",
      "70         Vôo    2.30   Masculino        1   \n",
      "190        Vôo    6.50   Masculino        1   \n",
      "187   Psíquico    2.00   Masculino        1   \n",
      "291   Psíquico    1.69   Masculino        1   \n",
      "354       Gelo    1.10    Feminino        4   \n",
      "\n",
      "                                                Imagem  CP_Máximo  \\\n",
      "3    data:image/jpeg;base64,/9j/4AAQSkZJRgABAQAAAQA...     2729.0   \n",
      "1    data:image/jpeg;base64,/9j/4AAQSkZJRgABAQAAAQA...     2685.0   \n",
      "4    data:image/jpeg;base64,/9j/4AAQSkZJRgABAQAAAQA...     3737.0   \n",
      "2    data:image/jpeg;base64,/9j/4AAQSkZJRgABAQAAAQA...     2356.0   \n",
      "0    data:image/jpeg;base64,/9j/4AAQSkZJRgABAQAAAQA...     3155.0   \n",
      "70   data:image/jpeg;base64,/9j/4AAQSkZJRgABAQAAAQA...     4338.0   \n",
      "190  data:image/jpeg;base64,/9j/4AAQSkZJRgABAQAAAQA...     3879.0   \n",
      "187  data:image/jpeg;base64,/9j/4AAQSkZJRgABAQAAAQA...     3448.0   \n",
      "291  data:image/jpeg;base64,/9j/4AAQSkZJRgABAQAAAQA...     3498.0   \n",
      "354  data:image/jpeg;base64,/9j/4AAQSkZJRgABAQAAAQA...     3438.0   \n",
      "\n",
      "     Porcentagem_CP  \n",
      "3         87.980945  \n",
      "1         87.411546  \n",
      "4         87.396307  \n",
      "2         87.393888  \n",
      "0         87.385103  \n",
      "70        86.629783  \n",
      "190       85.640629  \n",
      "187       85.382831  \n",
      "291       84.934248  \n",
      "354       84.089587  \n"
     ]
    }
   ],
   "source": [
    "# Visualizando as primeiras linhas do DataFrame ordenado\n",
    "\n",
    "print(pokemons_df_atualizado.head(10))"
   ]
  },
  {
   "cell_type": "code",
   "execution_count": 30,
   "id": "ce00834d",
   "metadata": {},
   "outputs": [
    {
     "data": {
      "image/png": "[encoded data removed]",
      "text/plain": [
       "<Figure size 864x576 with 1 Axes>"
      ]
     },
     "metadata": {
      "needs_background": "light"
     },
     "output_type": "display_data"
    }
   ],
   "source": [
    "# Criando um gráfico de boxplot para a porcentagem do CP atual em relação ao CP máximo por tipo primário\n",
    "\n",
    "plt.figure(figsize=(12, 8))\n",
    "sns.boxplot(x='Primário', y='Porcentagem_CP', data=pokemons_df_atualizado)\n",
    "plt.title('Distribuição da Porcentagem do CP Atual em Relação ao CP Máximo por Tipo Primário')\n",
    "plt.xlabel('Tipo Primário')\n",
    "plt.ylabel('Porcentagem do CP Máximo')\n",
    "plt.show()"
   ]
  },
  {
   "cell_type": "code",
   "execution_count": 31,
   "id": "816daa4e",
   "metadata": {},
   "outputs": [
    {
     "data": {
      "image/png": "[encoded data removed]",
      "text/plain": [
       "<Figure size 720x432 with 1 Axes>"
      ]
     },
     "metadata": {
      "needs_background": "light"
     },
     "output_type": "display_data"
    }
   ],
   "source": [
    "# Criando um gráfico de boxplot para a porcentagem do CP atual em relação ao CP máximo por geração\n",
    "\n",
    "plt.figure(figsize=(10, 6))\n",
    "sns.boxplot(x='Geração', y='Porcentagem_CP', data=pokemons_df_atualizado)\n",
    "plt.title('Distribuição da Porcentagem do CP Atual em Relação ao CP Máximo por Geração')\n",
    "plt.xlabel('Geração')\n",
    "plt.ylabel('Porcentagem do CP Máximo')\n",
    "plt.show()"
   ]
  },
  {
   "cell_type": "code",
   "execution_count": 32,
   "id": "e6b79f4e",
   "metadata": {},
   "outputs": [],
   "source": [
    "# Função para obter dados de estatísticas base da API\n",
    "\n",
    "def get_base_stats_data():\n",
    "    url = \"https://pogoapi.net/api/v1/pokemon_stats.json\"\n",
    "    response = requests.get(url)\n",
    "    if response.status_code == 200:\n",
    "        return response.json()\n",
    "    else:\n",
    "        raise Exception(f\"Erro ao acessar a API: {response.status_code}\")"
   ]
  },
  {
   "cell_type": "code",
   "execution_count": 33,
   "id": "cc7085af",
   "metadata": {},
   "outputs": [],
   "source": [
    "# Obtendo dados de estatísticas base\n",
    "\n",
    "base_stats_data = get_base_stats_data()"
   ]
  },
  {
   "cell_type": "code",
   "execution_count": 34,
   "id": "4374a979",
   "metadata": {},
   "outputs": [],
   "source": [
    "# Convertendo os dados de estatísticas base em um DataFrame\n",
    "\n",
    "base_stats_df = pd.json_normalize(base_stats_data)"
   ]
  },
  {
   "cell_type": "code",
   "execution_count": 35,
   "id": "5832b1e2",
   "metadata": {},
   "outputs": [
    {
     "name": "stdout",
     "output_type": "stream",
     "text": [
      "   base_attack  base_defense  base_stamina       form  pokemon_id pokemon_name\n",
      "0          118           111           128  Fall_2019           1    Bulbasaur\n",
      "1          118           111           128     Normal           1    Bulbasaur\n",
      "2          151           143           155     Normal           2      Ivysaur\n",
      "3          198           189           190  Copy_2019           3     Venusaur\n",
      "4          198           189           190     Normal           3     Venusaur\n"
     ]
    }
   ],
   "source": [
    "# Verificando a estrutura dos dados\n",
    "\n",
    "print(base_stats_df.head())"
   ]
  },
  {
   "cell_type": "code",
   "execution_count": 36,
   "id": "73167146",
   "metadata": {},
   "outputs": [],
   "source": [
    "# Normalizando os nomes dos Pokémon para garantir a correspondência correta\n",
    "\n",
    "base_stats_df['pokemon_name'] = base_stats_df['pokemon_name'].str.lower()\n",
    "pokemons_df_atualizado['Pokemon'] = pokemons_df_atualizado['Pokemon'].str.lower()"
   ]
  },
  {
   "cell_type": "code",
   "execution_count": 37,
   "id": "54d330f1",
   "metadata": {},
   "outputs": [
    {
     "name": "stdout",
     "output_type": "stream",
     "text": [
      "      Pokemon Detalhe À Evoluir  Ataque  Defesa  Ponto de Saúde (PS)  Total  \\\n",
      "0  perrserker  Normal       Não      15      15                   15     45   \n",
      "1     exploud  Normal       Não      15      15                   15     45   \n",
      "2   porygon-z  Normal       Não      15      15                   15     45   \n",
      "3     lopunny  Normal       Não      15      15                   15     45   \n",
      "4     blissey  Normal       Não      15      15                   15     45   \n",
      "\n",
      "   Ponto de Combate (CP)  Porcentagem  Estrelas  ...  Geração  \\\n",
      "0                   2401        100.0         3  ...        8   \n",
      "1                   2347        100.0         3  ...        3   \n",
      "2                   3266        100.0         3  ...        1   \n",
      "3                   2059        100.0         3  ...        4   \n",
      "4                   2757        100.0         3  ...        2   \n",
      "\n",
      "                                              Imagem CP_Máximo  \\\n",
      "0  data:image/jpeg;base64,/9j/4AAQSkZJRgABAQAAAQA...    2729.0   \n",
      "1  data:image/jpeg;base64,/9j/4AAQSkZJRgABAQAAAQA...    2685.0   \n",
      "2  data:image/jpeg;base64,/9j/4AAQSkZJRgABAQAAAQA...    3737.0   \n",
      "3  data:image/jpeg;base64,/9j/4AAQSkZJRgABAQAAAQA...    2356.0   \n",
      "4  data:image/jpeg;base64,/9j/4AAQSkZJRgABAQAAAQA...    3155.0   \n",
      "\n",
      "   Porcentagem_CP base_attack  base_defense base_stamina      form  \\\n",
      "0       87.980945       195.0         162.0        172.0  Galarian   \n",
      "1       87.411546       179.0         137.0        232.0    Normal   \n",
      "2       87.396307       264.0         150.0        198.0    Normal   \n",
      "3       87.393888       156.0         194.0        163.0    Normal   \n",
      "4       87.385103       129.0         169.0        496.0    Normal   \n",
      "\n",
      "   pokemon_id  pokemon_name  \n",
      "0       863.0    perrserker  \n",
      "1       295.0       exploud  \n",
      "2       474.0     porygon-z  \n",
      "3       428.0       lopunny  \n",
      "4       242.0       blissey  \n",
      "\n",
      "[5 rows x 25 columns]\n"
     ]
    }
   ],
   "source": [
    "# Integrando os dados da API ao nosso DataFrame existente usando o nome do Pokémon\n",
    "\n",
    "pokemons_df_atualizado = pokemons_df_atualizado.merge(base_stats_df, left_on='Pokemon', right_on='pokemon_name', how='left')\n",
    "\n",
    "# Exibindo as primeiras linhas do DataFrame atualizado\n",
    "\n",
    "print(pokemons_df_atualizado.head())"
   ]
  },
  {
   "cell_type": "code",
   "execution_count": 38,
   "id": "543501ef",
   "metadata": {},
   "outputs": [
    {
     "name": "stdout",
     "output_type": "stream",
     "text": [
      "Quantidade de linhas e colunas da planilha:\n",
      "\n",
      "(507, 25)\n"
     ]
    }
   ],
   "source": [
    "# Verificando a quantidade de linhas e colunas da planilha após a junção\n",
    "\n",
    "print(\"Quantidade de linhas e colunas da planilha:\")\n",
    "print()\n",
    "print(pokemons_df_atualizado.shape)"
   ]
  },
  {
   "cell_type": "code",
   "execution_count": 39,
   "id": "4101428f",
   "metadata": {},
   "outputs": [
    {
     "name": "stdout",
     "output_type": "stream",
     "text": [
      "Dados nulos por coluna após atualização manual:\n",
      "\n",
      "Pokemon                  0\n",
      "Detalhe                  0\n",
      "À Evoluir                0\n",
      "Ataque                   0\n",
      "Defesa                   0\n",
      "Ponto de Saúde (PS)      0\n",
      "Total                    0\n",
      "Ponto de Combate (CP)    0\n",
      "Porcentagem              0\n",
      "Estrelas                 0\n",
      "Peso                     0\n",
      "Primário                 0\n",
      "Secundário               0\n",
      "Altura                   0\n",
      "Sexo                     0\n",
      "Geração                  0\n",
      "Imagem                   0\n",
      "CP_Máximo                0\n",
      "Porcentagem_CP           0\n",
      "base_attack              3\n",
      "base_defense             3\n",
      "base_stamina             3\n",
      "form                     3\n",
      "pokemon_id               3\n",
      "pokemon_name             3\n",
      "dtype: int64\n"
     ]
    }
   ],
   "source": [
    "# Verificando se há valores nulos\n",
    "\n",
    "print(\"Dados nulos por coluna após atualização manual:\")\n",
    "print()\n",
    "print(pokemons_df_atualizado.isnull().sum())"
   ]
  },
  {
   "cell_type": "code",
   "execution_count": 40,
   "id": "02e58395",
   "metadata": {},
   "outputs": [],
   "source": [
    "# Filtrando os Pokémon que têm dados ausentes\n",
    "\n",
    "pokemons_com_dados_ausentes = pokemons_df_atualizado[pokemons_df_atualizado.isnull().any(axis=1)]"
   ]
  },
  {
   "cell_type": "code",
   "execution_count": 41,
   "id": "79584490",
   "metadata": {},
   "outputs": [
    {
     "name": "stdout",
     "output_type": "stream",
     "text": [
      "Pokémon com dados ausentes:\n",
      "      Pokemon Detalhe À Evoluir  Ataque  Defesa  Ponto de Saúde (PS)  Total  \\\n",
      "125  farfetch  Normal       Sim      15      13                   14     42   \n",
      "270  sirfetch  Normal       Não      15      15                   12     42   \n",
      "466   nidoran  Normal       Sim      12      14                   13     39   \n",
      "\n",
      "     Ponto de Combate (CP)  Porcentagem  Estrelas  ...  Geração  \\\n",
      "125                    946    93.333333         3  ...        1   \n",
      "270                   1691    93.333333         3  ...        1   \n",
      "466                    335    86.666667         3  ...        1   \n",
      "\n",
      "                                                Imagem CP_Máximo  \\\n",
      "125  data:image/jpeg;base64,/9j/4AAQSkZJRgABAQAAAQA...    1414.0   \n",
      "270  data:image/jpeg;base64,/9j/4AAQSkZJRgABAQAAAQA...    3415.0   \n",
      "466  data:image/jpeg;base64,/9j/4AAQSkZJRgABAQAAAQA...     933.0   \n",
      "\n",
      "     Porcentagem_CP base_attack  base_defense base_stamina  form  pokemon_id  \\\n",
      "125       66.902405         NaN           NaN          NaN   NaN         NaN   \n",
      "270       49.516837         NaN           NaN          NaN   NaN         NaN   \n",
      "466       35.905681         NaN           NaN          NaN   NaN         NaN   \n",
      "\n",
      "     pokemon_name  \n",
      "125           NaN  \n",
      "270           NaN  \n",
      "466           NaN  \n",
      "\n",
      "[3 rows x 25 columns]\n"
     ]
    }
   ],
   "source": [
    "# Exibindo os Pokémon com dados ausentes\n",
    "\n",
    "print(\"Pokémon com dados ausentes:\")\n",
    "print(pokemons_com_dados_ausentes)"
   ]
  },
  {
   "cell_type": "code",
   "execution_count": 42,
   "id": "5ee00dcd",
   "metadata": {},
   "outputs": [],
   "source": [
    "# Preenchendo os dados ausentes manualmente\n",
    "# Dados para preencher\n",
    "\n",
    "dados_ausentes = {\n",
    "    \"farfetch\": {\n",
    "        \"base_attack\": 124,\n",
    "        \"base_defense\": 115,\n",
    "        \"base_stamina\": 141,\n",
    "        \"form\": \"Galarian\",\n",
    "        \"pokemon_id\": 83,\n",
    "        \"pokemon_name\": \"farfetch\"\n",
    "    },\n",
    "    \"sirfetch\": {\n",
    "        \"base_attack\": 248,\n",
    "        \"base_defense\": 176,\n",
    "        \"base_stamina\": 158,\n",
    "        \"form\": \"Galarian\",\n",
    "        \"pokemon_id\": 865,\n",
    "        \"pokemon_name\": \"sirfetch\"\n",
    "    },\n",
    "    \"nidoran\": {\n",
    "        \"base_attack\": 86,\n",
    "        \"base_defense\": 89,\n",
    "        \"base_stamina\": 120,\n",
    "        \"form\": \"Normal\",\n",
    "        \"pokemon_id\": 29,\n",
    "        \"pokemon_name\": \"nidoran\"\n",
    "    }\n",
    "}"
   ]
  },
  {
   "cell_type": "code",
   "execution_count": 43,
   "id": "3ff94d40",
   "metadata": {},
   "outputs": [],
   "source": [
    "# Função para preencher os dados ausentes\n",
    "\n",
    "def preencher_dados_ausentes(df, dados_ausentes):\n",
    "    for index, row in df.iterrows():\n",
    "        if row['Pokemon'] in dados_ausentes:\n",
    "            df.at[index, 'base_attack'] = dados_ausentes[row['Pokemon']]['base_attack']\n",
    "            df.at[index, 'base_defense'] = dados_ausentes[row['Pokemon']]['base_defense']\n",
    "            df.at[index, 'base_stamina'] = dados_ausentes[row['Pokemon']]['base_stamina']\n",
    "            df.at[index, 'form'] = dados_ausentes[row['Pokemon']]['form']\n",
    "            df.at[index, 'pokemon_id'] = dados_ausentes[row['Pokemon']]['pokemon_id']\n",
    "            df.at[index, 'pokemon_name'] = dados_ausentes[row['Pokemon']]['pokemon_name']\n",
    "\n",
    "# Preenchendo os dados ausentes no DataFrame\n",
    "\n",
    "preencher_dados_ausentes(pokemons_df_atualizado, dados_ausentes)"
   ]
  },
  {
   "cell_type": "code",
   "execution_count": 44,
   "id": "83c0e51e",
   "metadata": {},
   "outputs": [
    {
     "name": "stdout",
     "output_type": "stream",
     "text": [
      "Dados nulos por coluna após preenchimento manual:\n",
      "Pokemon                  0\n",
      "Detalhe                  0\n",
      "À Evoluir                0\n",
      "Ataque                   0\n",
      "Defesa                   0\n",
      "Ponto de Saúde (PS)      0\n",
      "Total                    0\n",
      "Ponto de Combate (CP)    0\n",
      "Porcentagem              0\n",
      "Estrelas                 0\n",
      "Peso                     0\n",
      "Primário                 0\n",
      "Secundário               0\n",
      "Altura                   0\n",
      "Sexo                     0\n",
      "Geração                  0\n",
      "Imagem                   0\n",
      "CP_Máximo                0\n",
      "Porcentagem_CP           0\n",
      "base_attack              0\n",
      "base_defense             0\n",
      "base_stamina             0\n",
      "form                     0\n",
      "pokemon_id               0\n",
      "pokemon_name             0\n",
      "dtype: int64\n"
     ]
    }
   ],
   "source": [
    "# Verificando novamente se há valores nulos após o preenchimento manual\n",
    "\n",
    "print(\"Dados nulos por coluna após preenchimento manual:\")\n",
    "print(pokemons_df_atualizado.isnull().sum())"
   ]
  },
  {
   "cell_type": "code",
   "execution_count": 45,
   "id": "8f69c9d7",
   "metadata": {},
   "outputs": [],
   "source": [
    "# Contando as ocorrências de cada Pokémon no DataFrame\n",
    "\n",
    "pokemon_counts = pokemons_df_atualizado['pokemon_name'].value_counts()"
   ]
  },
  {
   "cell_type": "code",
   "execution_count": 46,
   "id": "0c746f87",
   "metadata": {},
   "outputs": [],
   "source": [
    "# Filtrando apenas os Pokémon que aparecem mais de uma vez\n",
    "\n",
    "pokemon_duplicados = pokemon_counts[pokemon_counts > 1]"
   ]
  },
  {
   "cell_type": "code",
   "execution_count": 47,
   "id": "44c0171c",
   "metadata": {},
   "outputs": [
    {
     "name": "stdout",
     "output_type": "stream",
     "text": [
      "pokemon_name\n",
      "pikachu      36\n",
      "genesect      5\n",
      "sawsbuck      4\n",
      "castform      4\n",
      "deoxys        4\n",
      "             ..\n",
      "espeon        2\n",
      "golem         2\n",
      "exeggutor     2\n",
      "arcanine      2\n",
      "cherrim       2\n",
      "Name: count, Length: 69, dtype: int64\n"
     ]
    }
   ],
   "source": [
    "# Exibindo os Pokémon duplicados e suas quantidades\n",
    "\n",
    "print(pokemon_duplicados)"
   ]
  },
  {
   "cell_type": "code",
   "execution_count": 48,
   "id": "ef90a47f",
   "metadata": {},
   "outputs": [],
   "source": [
    "# Ordenando o DataFrame pelo nome do Pokémon e mantendo apenas o primeiro registro de cada Pokémon duplicado\n",
    "\n",
    "pokemons_df_unico = pokemons_df_atualizado.drop_duplicates(subset=['pokemon_name'], keep='first')"
   ]
  },
  {
   "cell_type": "code",
   "execution_count": 49,
   "id": "688fb118",
   "metadata": {},
   "outputs": [
    {
     "name": "stdout",
     "output_type": "stream",
     "text": [
      "      Pokemon Detalhe À Evoluir  Ataque  Defesa  Ponto de Saúde (PS)  Total  \\\n",
      "0  perrserker  Normal       Não      15      15                   15     45   \n",
      "1     exploud  Normal       Não      15      15                   15     45   \n",
      "2   porygon-z  Normal       Não      15      15                   15     45   \n",
      "3     lopunny  Normal       Não      15      15                   15     45   \n",
      "4     blissey  Normal       Não      15      15                   15     45   \n",
      "\n",
      "   Ponto de Combate (CP)  Porcentagem  Estrelas  ...  Geração  \\\n",
      "0                   2401        100.0         3  ...        8   \n",
      "1                   2347        100.0         3  ...        3   \n",
      "2                   3266        100.0         3  ...        1   \n",
      "3                   2059        100.0         3  ...        4   \n",
      "4                   2757        100.0         3  ...        2   \n",
      "\n",
      "                                              Imagem CP_Máximo  \\\n",
      "0  data:image/jpeg;base64,/9j/4AAQSkZJRgABAQAAAQA...    2729.0   \n",
      "1  data:image/jpeg;base64,/9j/4AAQSkZJRgABAQAAAQA...    2685.0   \n",
      "2  data:image/jpeg;base64,/9j/4AAQSkZJRgABAQAAAQA...    3737.0   \n",
      "3  data:image/jpeg;base64,/9j/4AAQSkZJRgABAQAAAQA...    2356.0   \n",
      "4  data:image/jpeg;base64,/9j/4AAQSkZJRgABAQAAAQA...    3155.0   \n",
      "\n",
      "   Porcentagem_CP base_attack  base_defense base_stamina      form  \\\n",
      "0       87.980945       195.0         162.0        172.0  Galarian   \n",
      "1       87.411546       179.0         137.0        232.0    Normal   \n",
      "2       87.396307       264.0         150.0        198.0    Normal   \n",
      "3       87.393888       156.0         194.0        163.0    Normal   \n",
      "4       87.385103       129.0         169.0        496.0    Normal   \n",
      "\n",
      "   pokemon_id  pokemon_name  \n",
      "0       863.0    perrserker  \n",
      "1       295.0       exploud  \n",
      "2       474.0     porygon-z  \n",
      "3       428.0       lopunny  \n",
      "4       242.0       blissey  \n",
      "\n",
      "[5 rows x 25 columns]\n"
     ]
    }
   ],
   "source": [
    "# Verificando as primeiras linhas do DataFrame atualizado\n",
    "\n",
    "print(pokemons_df_unico.head())"
   ]
  },
  {
   "cell_type": "code",
   "execution_count": 50,
   "id": "ac864efe",
   "metadata": {},
   "outputs": [
    {
     "name": "stdout",
     "output_type": "stream",
     "text": [
      "Quantidade de linhas e colunas da planilha:\n",
      "(384, 25)\n"
     ]
    }
   ],
   "source": [
    "# Verificando a quantidade de linhas e colunas da planilha após a exclusão dos Pokémon repetidos\n",
    "\n",
    "print(\"Quantidade de linhas e colunas da planilha:\")\n",
    "print(pokemons_df_unico.shape)"
   ]
  },
  {
   "cell_type": "code",
   "execution_count": 51,
   "id": "369e09d6",
   "metadata": {},
   "outputs": [
    {
     "name": "stdout",
     "output_type": "stream",
     "text": [
      "Dados salvos com sucesso em \"Meus_Pokémons_Atualizados.xlsx\".\n"
     ]
    }
   ],
   "source": [
    "# Salvando o dataFrame atual após todas as modificações\n",
    "\n",
    "pokemons_df_unico.to_excel('Meus_Pokémons_Atualizados.xlsx', index=False)\n",
    "\n",
    "print(f'Dados salvos com sucesso em \"Meus_Pokémons_Atualizados.xlsx\".')"
   ]
  },
  {
   "cell_type": "code",
   "execution_count": null,
   "id": "96914fc4",
   "metadata": {},
   "outputs": [],
   "source": []
  }
 ],
 "metadata": {
  "kernelspec": {
   "display_name": "Python 3",
   "language": "python",
   "name": "python3"
  },
  "language_info": {
   "codemirror_mode": {
    "name": "ipython",
    "version": 3
   },
   "file_extension": ".py",
   "mimetype": "text/x-python",
   "name": "python",
   "nbconvert_exporter": "python",
   "pygments_lexer": "ipython3",
   "version": "3.8.8"
  }
 },
 "nbformat": 4,
 "nbformat_minor": 5
}
